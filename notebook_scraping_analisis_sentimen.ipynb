{
  "nbformat": 4,
  "nbformat_minor": 0,
  "metadata": {
    "colab": {
      "provenance": [],
      "authorship_tag": "ABX9TyOPxgFzhYc7ojs7Tsr99iRI"
    },
    "kernelspec": {
      "name": "python3",
      "display_name": "Python 3"
    },
    "language_info": {
      "name": "python"
    }
  },
  "cells": [
    {
      "cell_type": "markdown",
      "source": [
        "# **Notebook Scraping Proyek Sentimen Analisis**\n",
        "\n",
        "- **Nama:** Fatikha Hudi Aryani\n",
        "- **Email:** fatikhahudiaryani621@gmail.com\n",
        "- **ID Dicoding:** fatikha_hudi_aryani"
      ],
      "metadata": {
        "id": "eeyrnPM13HVV"
      }
    },
    {
      "cell_type": "code",
      "source": [
        "!pip install google-play-scraper"
      ],
      "metadata": {
        "colab": {
          "base_uri": "https://localhost:8080/"
        },
        "id": "9Brazp4T3jcT",
        "outputId": "f42590e9-9b77-4bd2-bfeb-8fbdeb46d766"
      },
      "execution_count": 11,
      "outputs": [
        {
          "output_type": "stream",
          "name": "stdout",
          "text": [
            "Requirement already satisfied: google-play-scraper in /usr/local/lib/python3.11/dist-packages (1.2.7)\n"
          ]
        }
      ]
    },
    {
      "cell_type": "code",
      "source": [
        "# Import Library\n",
        "from google_play_scraper import reviews_all, reviews, Sort\n",
        "import pandas as pd"
      ],
      "metadata": {
        "id": "9gqM7hKh3H86"
      },
      "execution_count": 12,
      "outputs": []
    },
    {
      "cell_type": "code",
      "source": [
        "# Melakukan scraping untuk mengambil 30000 ulasan aplikasi tokopedia\n",
        "scrapreview = reviews(\n",
        "    'com.tokopedia.tkpd',\n",
        "    lang='id',\n",
        "    country='id',\n",
        "    sort=Sort.MOST_RELEVANT,\n",
        "    count = 30000,\n",
        "    filter_score_with=5\n",
        ")"
      ],
      "metadata": {
        "id": "y6r1iBpb3VKY"
      },
      "execution_count": 13,
      "outputs": []
    },
    {
      "cell_type": "code",
      "source": [
        "# Menyimpan hasil scrap ke dalam bentuk file csv\n",
        "df = pd.DataFrame(scrapreview[0])\n",
        "df.to_csv('tokopedia_reviews_30K.csv', index=False)"
      ],
      "metadata": {
        "id": "wPtVPyVl4CYi"
      },
      "execution_count": 14,
      "outputs": []
    }
  ]
}